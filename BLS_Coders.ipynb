{
 "cells": [
  {
   "cell_type": "code",
   "execution_count": 1,
   "id": "f68b89a3-ba05-40fb-a7e0-18e46d7441ac",
   "metadata": {},
   "outputs": [],
   "source": [
    "import json"
   ]
  },
  {
   "cell_type": "code",
   "execution_count": 2,
   "id": "f32b277a-79b4-4828-94ac-39434755e479",
   "metadata": {},
   "outputs": [],
   "source": [
    "# let's write a function to load the data\n",
    "def load_data(filename):\n",
    "    with open(filename, \"r\") as f:\n",
    "        data = json.load(f)\n",
    "    return data"
   ]
  },
  {
   "cell_type": "code",
   "execution_count": 3,
   "id": "8bdebe74-bf3c-4cba-931d-09a043b019fd",
   "metadata": {},
   "outputs": [],
   "source": [
    "data = load_data(\"data.json\")"
   ]
  },
  {
   "cell_type": "code",
   "execution_count": 4,
   "id": "1448687a-0022-4efe-95e2-0db5a8096551",
   "metadata": {},
   "outputs": [
    {
     "data": {
      "text/plain": [
       "{'users': [{'id': 1,\n",
       "   'name': 'Krushna',\n",
       "   'friends': [2, 3],\n",
       "   'liked_pages': [101]},\n",
       "  {'id': 2, 'name': 'Bhabo', 'friends': [1, 4], 'liked_pages': [102]},\n",
       "  {'id': 3, 'name': 'Binay', 'friends': [1], 'liked_pages': [101, 103]},\n",
       "  {'id': 4, 'name': 'Prasanta', 'friends': [1, 2], 'liked_pages': [104]},\n",
       "  {'id': 5, 'name': 'Sushanta', 'friends': [1, 2, 3], 'liked_pages': [105]},\n",
       "  {'id': 6, 'name': 'Kajal', 'friends': [2, 4], 'liked_pages': [101, 102]},\n",
       "  {'id': 7,\n",
       "   'name': 'Sangram',\n",
       "   'friends': [1, 2, 3, 4, 5, 6],\n",
       "   'liked_pages': [103, 104]}],\n",
       " 'pages': [{'id': 101, 'name': 'Python Developers'},\n",
       "  {'id': 102, 'name': 'Data Science Enthusiasts'},\n",
       "  {'id': 103, 'name': 'AI & ML Community'},\n",
       "  {'id': 104, 'name': 'Web Dev Hub'},\n",
       "  {'id': 105, 'name': 'Singing'}]}"
      ]
     },
     "execution_count": 4,
     "metadata": {},
     "output_type": "execute_result"
    }
   ],
   "source": [
    "data"
   ]
  },
  {
   "cell_type": "code",
   "execution_count": 5,
   "id": "2aebc25b-3de7-4384-a47e-d20c25b39c2a",
   "metadata": {},
   "outputs": [
    {
     "data": {
      "text/plain": [
       "dict"
      ]
     },
     "execution_count": 5,
     "metadata": {},
     "output_type": "execute_result"
    }
   ],
   "source": [
    "type(data)"
   ]
  },
  {
   "cell_type": "code",
   "execution_count": 11,
   "id": "a1e912b0-7b9d-4d79-a0a8-7db51c901a6a",
   "metadata": {},
   "outputs": [
    {
     "name": "stdout",
     "output_type": "stream",
     "text": [
      "Users and their connections: \n",
      "\n",
      "ID:(1):- Krushna is friends with: [2, 3] and liked pages are [101]\n",
      "ID:(2):- Bhabo is friends with: [1, 4] and liked pages are [102]\n",
      "ID:(3):- Binay is friends with: [1] and liked pages are [101, 103]\n",
      "ID:(4):- Prasanta is friends with: [1, 2] and liked pages are [104]\n",
      "ID:(5):- Sushanta is friends with: [1, 2, 3] and liked pages are [105]\n",
      "ID:(6):- Kajal is friends with: [2, 4] and liked pages are [101, 102]\n",
      "ID:(7):- Sangram is friends with: [1, 2, 3, 4, 5, 6] and liked pages are [103, 104]\n",
      "\n",
      "Pages Information: \n",
      "\n",
      "101: Python Developers\n",
      "102: Data Science Enthusiasts\n",
      "103: AI & ML Community\n",
      "104: Web Dev Hub\n",
      "105: Singing\n"
     ]
    }
   ],
   "source": [
    "def display_users(data):\n",
    "    print(\"Users and their connections: \\n\")\n",
    "    for user in data['users']:\n",
    "        print(f\"ID:({user['id']}):- {user['name']} is friends with: {user['friends']} and liked pages are {user['liked_pages']}\")\n",
    "    print(\"\\nPages Information: \\n\")\n",
    "    for page in data['pages']:\n",
    "        print(f\"{page['id']}: {page['name']}\")\n",
    "\n",
    "display_users(data)"
   ]
  },
  {
   "cell_type": "code",
   "execution_count": null,
   "id": "761a3885-5fbe-49e1-8682-c5d18864e3e3",
   "metadata": {},
   "outputs": [],
   "source": []
  },
  {
   "cell_type": "code",
   "execution_count": null,
   "id": "f66518b7-bf89-4565-8d39-5dbc3c3ac37e",
   "metadata": {},
   "outputs": [],
   "source": []
  },
  {
   "cell_type": "code",
   "execution_count": null,
   "id": "e9251120-3306-4cd4-85ea-efdca9c44aca",
   "metadata": {},
   "outputs": [],
   "source": []
  }
 ],
 "metadata": {
  "kernelspec": {
   "display_name": "Python 3 (ipykernel)",
   "language": "python",
   "name": "python3"
  },
  "language_info": {
   "codemirror_mode": {
    "name": "ipython",
    "version": 3
   },
   "file_extension": ".py",
   "mimetype": "text/x-python",
   "name": "python",
   "nbconvert_exporter": "python",
   "pygments_lexer": "ipython3",
   "version": "3.13.5"
  }
 },
 "nbformat": 4,
 "nbformat_minor": 5
}
